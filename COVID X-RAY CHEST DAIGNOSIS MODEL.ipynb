{
 "cells": [
  {
   "cell_type": "markdown",
   "metadata": {
    "colab_type": "text",
    "id": "aqlQTzxknA4y"
   },
   "source": [
    "# DATA COLLECTION"
   ]
  },
  {
   "cell_type": "code",
   "execution_count": null,
   "metadata": {
    "colab": {
     "base_uri": "https://localhost:8080/",
     "height": 34
    },
    "colab_type": "code",
    "id": "bbg1ApY5apb-",
    "outputId": "be4a5b62-bef0-4536-914d-af86f02281fb"
   },
   "outputs": [
    {
     "name": "stdout",
     "output_type": "stream",
     "text": [
      "Drive already mounted at /content/drive; to attempt to forcibly remount, call drive.mount(\"/content/drive\", force_remount=True).\n"
     ]
    }
   ],
   "source": [
    "from google.colab import drive\n",
    "drive.mount('/content/drive')"
   ]
  },
  {
   "cell_type": "code",
   "execution_count": null,
   "metadata": {
    "colab": {
     "base_uri": "https://localhost:8080/",
     "height": 34
    },
    "colab_type": "code",
    "id": "9B_aDxEjbWrE",
    "outputId": "2381bc11-a638-4e87-a907-82af9a56c1ea"
   },
   "outputs": [
    {
     "name": "stdout",
     "output_type": "stream",
     "text": [
      "/content/drive/My Drive/CovidDataset\n"
     ]
    }
   ],
   "source": [
    "%cd /content/drive/My Drive/CovidDataset"
   ]
  },
  {
   "cell_type": "code",
   "execution_count": null,
   "metadata": {
    "colab": {
     "base_uri": "https://localhost:8080/",
     "height": 35
    },
    "colab_type": "code",
    "id": "Syz-RD9bbtbs",
    "outputId": "b2407444-76ea-4374-97c2-fb01413f42ca"
   },
   "outputs": [
    {
     "data": {
      "application/vnd.google.colaboratory.intrinsic+json": {
       "type": "string"
      },
      "text/plain": [
       "'/content/drive/My Drive/CovidDataset'"
      ]
     },
     "execution_count": 101,
     "metadata": {
      "tags": []
     },
     "output_type": "execute_result"
    }
   ],
   "source": [
    "pwd"
   ]
  },
  {
   "cell_type": "code",
   "execution_count": null,
   "metadata": {
    "colab": {
     "base_uri": "https://localhost:8080/",
     "height": 34
    },
    "colab_type": "code",
    "id": "FKFpg_Aebu1Y",
    "outputId": "76028826-f3b4-4745-efd7-c89c80f4525a"
   },
   "outputs": [
    {
     "name": "stdout",
     "output_type": "stream",
     "text": [
      "covid19.jpeg  Covid_xray_model.h5  Train  Validation\n"
     ]
    }
   ],
   "source": [
    "!ls"
   ]
  },
  {
   "cell_type": "markdown",
   "metadata": {
    "colab_type": "text",
    "id": "I-gomv4QnUJ6"
   },
   "source": [
    "# IMPORTING REQUIREMENTS"
   ]
  },
  {
   "cell_type": "code",
   "execution_count": null,
   "metadata": {
    "colab": {},
    "colab_type": "code",
    "id": "dVdxjXMWnadD"
   },
   "outputs": [],
   "source": [
    "import numpy as np\n",
    "import matplotlib.pyplot as plt\n",
    "import tensorflow as tf\n",
    "from tensorflow.keras.models import Sequential\n",
    "from tensorflow.keras.layers import Conv2D, MaxPooling2D\n",
    "from tensorflow.keras.layers import Dropout, Flatten, Dense\n",
    "from tensorflow.keras.preprocessing import image"
   ]
  },
  {
   "cell_type": "markdown",
   "metadata": {
    "colab_type": "text",
    "id": "AtCR6_XMnOR7"
   },
   "source": [
    "# MODEL BUILDING"
   ]
  },
  {
   "cell_type": "code",
   "execution_count": null,
   "metadata": {
    "colab": {},
    "colab_type": "code",
    "id": "5BCcemrTbvos"
   },
   "outputs": [],
   "source": [
    "model = Sequential()\n",
    "\n",
    "model.add(Conv2D(32, (3, 3), activation='relu', input_shape=(224, 224, 3)))\n",
    "model.add(Conv2D(64, (3, 3), activation='relu'))\n",
    "model.add(MaxPooling2D(pool_size=(2, 2)))\n",
    "model.add(Dropout(0.25))\n",
    "\n",
    "model.add(Conv2D(64, (3, 3), activation='relu'))\n",
    "model.add(MaxPooling2D(pool_size=(2, 2)))\n",
    "model.add(Dropout(0.25))\n",
    "\n",
    "model.add(Conv2D(128, (3, 3), activation='relu'))\n",
    "model.add(MaxPooling2D(pool_size=(2, 2)))\n",
    "model.add(Dropout(0.25))\n",
    "\n",
    "model.add(Flatten())\n",
    "model.add(Dense(64, activation='relu'))\n",
    "model.add(Dropout(0.5))\n",
    "\n",
    "model.add(Dense(1, activation='sigmoid'))"
   ]
  },
  {
   "cell_type": "code",
   "execution_count": null,
   "metadata": {
    "colab": {},
    "colab_type": "code",
    "id": "nxJJrm8fpGXJ"
   },
   "outputs": [],
   "source": [
    "model.compile(optimizer=tf.keras.optimizers.Adam(learning_rate=0.0001),\n",
    "              loss=tf.keras.losses.BinaryCrossentropy(from_logits=True),\n",
    "              metrics=['accuracy'])"
   ]
  },
  {
   "cell_type": "code",
   "execution_count": null,
   "metadata": {
    "colab": {
     "base_uri": "https://localhost:8080/",
     "height": 622
    },
    "colab_type": "code",
    "id": "XMIITUh3pb3B",
    "outputId": "a25bbbc8-620d-49ad-93e6-8ea5c0bc0c21"
   },
   "outputs": [
    {
     "name": "stdout",
     "output_type": "stream",
     "text": [
      "Model: \"sequential_2\"\n",
      "_________________________________________________________________\n",
      "Layer (type)                 Output Shape              Param #   \n",
      "=================================================================\n",
      "conv2d_8 (Conv2D)            (None, 222, 222, 32)      896       \n",
      "_________________________________________________________________\n",
      "conv2d_9 (Conv2D)            (None, 220, 220, 64)      18496     \n",
      "_________________________________________________________________\n",
      "max_pooling2d_6 (MaxPooling2 (None, 110, 110, 64)      0         \n",
      "_________________________________________________________________\n",
      "dropout_8 (Dropout)          (None, 110, 110, 64)      0         \n",
      "_________________________________________________________________\n",
      "conv2d_10 (Conv2D)           (None, 108, 108, 64)      36928     \n",
      "_________________________________________________________________\n",
      "max_pooling2d_7 (MaxPooling2 (None, 54, 54, 64)        0         \n",
      "_________________________________________________________________\n",
      "dropout_9 (Dropout)          (None, 54, 54, 64)        0         \n",
      "_________________________________________________________________\n",
      "conv2d_11 (Conv2D)           (None, 52, 52, 128)       73856     \n",
      "_________________________________________________________________\n",
      "max_pooling2d_8 (MaxPooling2 (None, 26, 26, 128)       0         \n",
      "_________________________________________________________________\n",
      "dropout_10 (Dropout)         (None, 26, 26, 128)       0         \n",
      "_________________________________________________________________\n",
      "flatten_2 (Flatten)          (None, 86528)             0         \n",
      "_________________________________________________________________\n",
      "dense_4 (Dense)              (None, 64)                5537856   \n",
      "_________________________________________________________________\n",
      "dropout_11 (Dropout)         (None, 64)                0         \n",
      "_________________________________________________________________\n",
      "dense_5 (Dense)              (None, 1)                 65        \n",
      "=================================================================\n",
      "Total params: 5,668,097\n",
      "Trainable params: 5,668,097\n",
      "Non-trainable params: 0\n",
      "_________________________________________________________________\n"
     ]
    }
   ],
   "source": [
    "model.summary()"
   ]
  },
  {
   "cell_type": "markdown",
   "metadata": {
    "colab_type": "text",
    "id": "tRO7cAAwpoNo"
   },
   "source": [
    "# DATA PREPROCESSING"
   ]
  },
  {
   "cell_type": "code",
   "execution_count": null,
   "metadata": {
    "colab": {},
    "colab_type": "code",
    "id": "7x9EX1EdplAj"
   },
   "outputs": [],
   "source": [
    "TRAIN_PATH = \"Train\"\n",
    "VAL_PATH = \"Validation\""
   ]
  },
  {
   "cell_type": "code",
   "execution_count": null,
   "metadata": {
    "colab": {},
    "colab_type": "code",
    "id": "1MAXtrnHp_on"
   },
   "outputs": [],
   "source": [
    "train_datagen = image.ImageDataGenerator(\n",
    "    rescale = 1./255,\n",
    "    shear_range=0.2,\n",
    "    zoom_range=0.2,\n",
    "    horizontal_flip=True\n",
    ")\n",
    "\n",
    "validation_datagen = image.ImageDataGenerator(rescale=1./255)"
   ]
  },
  {
   "cell_type": "code",
   "execution_count": null,
   "metadata": {
    "colab": {
     "base_uri": "https://localhost:8080/",
     "height": 50
    },
    "colab_type": "code",
    "id": "BAhs1bofqwF6",
    "outputId": "1fef6133-7241-4c67-be75-21eaf127dff3"
   },
   "outputs": [
    {
     "name": "stdout",
     "output_type": "stream",
     "text": [
      "Found 360 images belonging to 2 classes.\n",
      "Found 46 images belonging to 2 classes.\n"
     ]
    }
   ],
   "source": [
    "train_data = train_datagen.flow_from_directory(\n",
    "    TRAIN_PATH,\n",
    "    target_size=(224, 224),\n",
    "    color_mode='rgb',\n",
    "    class_mode='binary',\n",
    "    batch_size=32\n",
    ")\n",
    "\n",
    "validation_data = train_datagen.flow_from_directory(\n",
    "    VAL_PATH,\n",
    "    target_size=(224, 224),\n",
    "    color_mode='rgb',\n",
    "    class_mode='binary',\n",
    "    batch_size=32\n",
    ")"
   ]
  },
  {
   "cell_type": "code",
   "execution_count": null,
   "metadata": {
    "colab": {
     "base_uri": "https://localhost:8080/",
     "height": 34
    },
    "colab_type": "code",
    "id": "Zarn5tv3rPhI",
    "outputId": "79183277-1b80-405d-f970-6acf3a8a3ef1"
   },
   "outputs": [
    {
     "data": {
      "text/plain": [
       "{'Covid': 0, 'Normal': 1}"
      ]
     },
     "execution_count": 49,
     "metadata": {
      "tags": []
     },
     "output_type": "execute_result"
    }
   ],
   "source": [
    "train_data.class_indices"
   ]
  },
  {
   "cell_type": "code",
   "execution_count": null,
   "metadata": {
    "colab": {
     "base_uri": "https://localhost:8080/",
     "height": 34
    },
    "colab_type": "code",
    "id": "TJJy_yjuruXU",
    "outputId": "4da291e9-cda1-4b7c-a126-8119ec9bf802"
   },
   "outputs": [
    {
     "data": {
      "text/plain": [
       "{'Covid': 0, 'Normal': 1}"
      ]
     },
     "execution_count": 50,
     "metadata": {
      "tags": []
     },
     "output_type": "execute_result"
    }
   ],
   "source": [
    "validation_data.class_indices"
   ]
  },
  {
   "cell_type": "markdown",
   "metadata": {
    "colab_type": "text",
    "id": "X4oY2rdj-2x9"
   },
   "source": [
    "# MODEL TRAINING"
   ]
  },
  {
   "cell_type": "code",
   "execution_count": null,
   "metadata": {
    "colab": {
     "base_uri": "https://localhost:8080/",
     "height": 689
    },
    "colab_type": "code",
    "id": "cUiV9Cm9rwk3",
    "outputId": "7c71b847-ab4a-4f9f-bc61-c3cd46b1cb4d"
   },
   "outputs": [
    {
     "name": "stdout",
     "output_type": "stream",
     "text": [
      "Epoch 1/20\n",
      "8/8 [==============================] - 11s 1s/step - loss: 0.5572 - accuracy: 0.9181 - val_loss: 0.6179 - val_accuracy: 0.6739\n",
      "Epoch 2/20\n",
      "8/8 [==============================] - 12s 1s/step - loss: 0.5700 - accuracy: 0.8516 - val_loss: 0.5617 - val_accuracy: 0.8696\n",
      "Epoch 3/20\n",
      "8/8 [==============================] - 11s 1s/step - loss: 0.5619 - accuracy: 0.8594 - val_loss: 0.5763 - val_accuracy: 0.8261\n",
      "Epoch 4/20\n",
      "8/8 [==============================] - 11s 1s/step - loss: 0.5366 - accuracy: 0.9023 - val_loss: 0.5581 - val_accuracy: 0.8696\n",
      "Epoch 5/20\n",
      "8/8 [==============================] - 11s 1s/step - loss: 0.5439 - accuracy: 0.9258 - val_loss: 0.5466 - val_accuracy: 0.9130\n",
      "Epoch 6/20\n",
      "8/8 [==============================] - 11s 1s/step - loss: 0.5620 - accuracy: 0.9310 - val_loss: 0.5546 - val_accuracy: 0.8913\n",
      "Epoch 7/20\n",
      "8/8 [==============================] - 11s 1s/step - loss: 0.5159 - accuracy: 0.9258 - val_loss: 0.5437 - val_accuracy: 0.9348\n",
      "Epoch 8/20\n",
      "8/8 [==============================] - 12s 1s/step - loss: 0.5476 - accuracy: 0.8984 - val_loss: 0.5651 - val_accuracy: 0.8261\n",
      "Epoch 9/20\n",
      "8/8 [==============================] - 10s 1s/step - loss: 0.5551 - accuracy: 0.8578 - val_loss: 0.5476 - val_accuracy: 0.9348\n",
      "Epoch 10/20\n",
      "8/8 [==============================] - 10s 1s/step - loss: 0.5536 - accuracy: 0.9353 - val_loss: 0.5496 - val_accuracy: 0.8913\n",
      "Epoch 11/20\n",
      "8/8 [==============================] - 11s 1s/step - loss: 0.5637 - accuracy: 0.8633 - val_loss: 0.5547 - val_accuracy: 0.8913\n",
      "Epoch 12/20\n",
      "8/8 [==============================] - 11s 1s/step - loss: 0.5583 - accuracy: 0.8984 - val_loss: 0.5702 - val_accuracy: 0.8913\n",
      "Epoch 13/20\n",
      "8/8 [==============================] - 11s 1s/step - loss: 0.5504 - accuracy: 0.9141 - val_loss: 0.5484 - val_accuracy: 0.9130\n",
      "Epoch 14/20\n",
      "8/8 [==============================] - 10s 1s/step - loss: 0.5410 - accuracy: 0.9224 - val_loss: 0.5324 - val_accuracy: 0.9348\n",
      "Epoch 15/20\n",
      "8/8 [==============================] - 10s 1s/step - loss: 0.5461 - accuracy: 0.9310 - val_loss: 0.5515 - val_accuracy: 0.8913\n",
      "Epoch 16/20\n",
      "8/8 [==============================] - 12s 1s/step - loss: 0.5269 - accuracy: 0.9492 - val_loss: 0.5449 - val_accuracy: 0.9130\n",
      "Epoch 17/20\n",
      "8/8 [==============================] - 11s 1s/step - loss: 0.5283 - accuracy: 0.9375 - val_loss: 0.5459 - val_accuracy: 0.8913\n",
      "Epoch 18/20\n",
      "8/8 [==============================] - 10s 1s/step - loss: 0.5320 - accuracy: 0.9224 - val_loss: 0.5523 - val_accuracy: 0.8913\n",
      "Epoch 19/20\n",
      "8/8 [==============================] - 11s 1s/step - loss: 0.5341 - accuracy: 0.9453 - val_loss: 0.5567 - val_accuracy: 0.9130\n",
      "Epoch 20/20\n",
      "8/8 [==============================] - 11s 1s/step - loss: 0.5243 - accuracy: 0.9741 - val_loss: 0.5426 - val_accuracy: 0.9130\n"
     ]
    }
   ],
   "source": [
    "history = model.fit(\n",
    "    train_data,\n",
    "    epochs=20,\n",
    "    steps_per_epoch=8,\n",
    "    validation_data = validation_data,\n",
    "    validation_steps=2\n",
    ")"
   ]
  },
  {
   "cell_type": "markdown",
   "metadata": {
    "colab_type": "text",
    "id": "jGCM4e4Y-7Ky"
   },
   "source": [
    "# MODEL ACCURARY AND LOSS PLOT"
   ]
  },
  {
   "cell_type": "code",
   "execution_count": null,
   "metadata": {
    "colab": {
     "base_uri": "https://localhost:8080/",
     "height": 499
    },
    "colab_type": "code",
    "id": "xz0t69AWsU-0",
    "outputId": "618474fa-7119-4369-cfee-9aef1b6d42f1"
   },
   "outputs": [
    {
     "data": {
      "image/png": "[encoded data removed]",
      "text/plain": [
       "<Figure size 576x576 with 2 Axes>"
      ]
     },
     "metadata": {
      "needs_background": "light",
      "tags": []
     },
     "output_type": "display_data"
    }
   ],
   "source": [
    "acc = history.history['accuracy']\n",
    "val_acc = history.history['val_accuracy']\n",
    "\n",
    "loss = history.history['loss']\n",
    "val_loss = history.history['val_loss']\n",
    "\n",
    "plt.figure(figsize=(8, 8))\n",
    "plt.subplot(2, 1, 1)\n",
    "plt.plot(acc, label=\"Training Accuracy\")\n",
    "plt.plot(val_acc, label=\"Validation Accuracy\")\n",
    "plt.legend(loc='lower right')\n",
    "plt.ylabel(\"Accuracy\")\n",
    "plt.ylim([min(plt.ylim()),1])\n",
    "plt.title(\"Training and Validation Accuracy\")\n",
    "\n",
    "plt.subplot(2, 1, 2)\n",
    "plt.plot(loss, label=\"Training Loss\")\n",
    "plt.plot(val_loss, label=\"Validation Loss\")\n",
    "plt.legend(loc='upper right')\n",
    "plt.ylabel(\"Loss\")\n",
    "plt.ylim([min(plt.ylim()),1])\n",
    "plt.title(\"Training and Validation Loss\")\n",
    "\n",
    "plt.show()"
   ]
  },
  {
   "cell_type": "markdown",
   "metadata": {
    "colab_type": "text",
    "id": "nP9R-z2H_GAY"
   },
   "source": [
    "# SAVING MODEL"
   ]
  },
  {
   "cell_type": "code",
   "execution_count": null,
   "metadata": {
    "colab": {},
    "colab_type": "code",
    "id": "_VGZGumuvfyB"
   },
   "outputs": [],
   "source": [
    "model.save(\"Covid_xray_model.h5\")"
   ]
  },
  {
   "cell_type": "markdown",
   "metadata": {
    "colab_type": "text",
    "id": "UKQk9zba_KVh"
   },
   "source": [
    "# MODEL EVALUATION"
   ]
  },
  {
   "cell_type": "code",
   "execution_count": null,
   "metadata": {
    "colab": {
     "base_uri": "https://localhost:8080/",
     "height": 50
    },
    "colab_type": "code",
    "id": "UnHQNevLyk1n",
    "outputId": "b1f3cc74-b80b-4d55-e656-e00b87408bb8"
   },
   "outputs": [
    {
     "name": "stdout",
     "output_type": "stream",
     "text": [
      "12/12 [==============================] - 11s 944ms/step - loss: 0.5206 - accuracy: 0.9722\n"
     ]
    },
    {
     "data": {
      "text/plain": [
       "[0.5205974578857422, 0.9722222089767456]"
      ]
     },
     "execution_count": 59,
     "metadata": {
      "tags": []
     },
     "output_type": "execute_result"
    }
   ],
   "source": [
    "model.evaluate(train_data)"
   ]
  },
  {
   "cell_type": "code",
   "execution_count": null,
   "metadata": {
    "colab": {
     "base_uri": "https://localhost:8080/",
     "height": 50
    },
    "colab_type": "code",
    "id": "UJeg3zgByrLt",
    "outputId": "218c74a5-d8ce-4318-d20e-6ac5728f8fdf"
   },
   "outputs": [
    {
     "name": "stdout",
     "output_type": "stream",
     "text": [
      "2/2 [==============================] - 0s 224ms/step - loss: 0.5441 - accuracy: 0.9348\n"
     ]
    },
    {
     "data": {
      "text/plain": [
       "[0.5441340804100037, 0.9347826242446899]"
      ]
     },
     "execution_count": 60,
     "metadata": {
      "tags": []
     },
     "output_type": "execute_result"
    }
   ],
   "source": [
    "model.evaluate(validation_data)"
   ]
  },
  {
   "cell_type": "code",
   "execution_count": null,
   "metadata": {
    "colab": {},
    "colab_type": "code",
    "id": "GZnbWSPkyzaN"
   },
   "outputs": [],
   "source": [
    "y_actual = []\n",
    "y_pred = []"
   ]
  },
  {
   "cell_type": "code",
   "execution_count": null,
   "metadata": {
    "colab": {
     "base_uri": "https://localhost:8080/",
     "height": 87
    },
    "colab_type": "code",
    "id": "IHjBVdACzzTe",
    "outputId": "b30ab541-6d7b-45ce-e2fb-7b1234b35ffe"
   },
   "outputs": [
    {
     "name": "stdout",
     "output_type": "stream",
     "text": [
      "WARNING:tensorflow:From <ipython-input-64-10757ef75d65>:7: Sequential.predict_classes (from tensorflow.python.keras.engine.sequential) is deprecated and will be removed after 2021-01-01.\n",
      "Instructions for updating:\n",
      "Please use instead:* `np.argmax(model.predict(x), axis=-1)`,   if your model does multi-class classification   (e.g. if it uses a `softmax` last-layer activation).* `(model.predict(x) > 0.5).astype(\"int32\")`,   if your model does binary classification   (e.g. if it uses a `sigmoid` last-layer activation).\n"
     ]
    }
   ],
   "source": [
    "import os\n",
    "\n",
    "for i in os.listdir(\"./Validation/Normal\"):\n",
    "  img = image.load_img(\"./Validation/Normal/\"+i, target_size=(224, 224))\n",
    "  img = image.img_to_array(img)\n",
    "  img = np.expand_dims(img, axis=0)\n",
    "  pred = model.predict_classes(img)\n",
    "  y_pred.append(pred[0, 0])\n",
    "  y_actual.append(1)\n",
    "\n",
    "for i in os.listdir(\"./Validation/Covid/\"):\n",
    "  img = image.load_img(\"./Validation/Covid/\"+i, target_size=(224, 224))\n",
    "  img = image.img_to_array(img)\n",
    "  img = np.expand_dims(img, axis=0)\n",
    "  pred = model.predict_classes(img)\n",
    "  y_pred.append(pred[0, 0])\n",
    "  y_actual.append(0)"
   ]
  },
  {
   "cell_type": "code",
   "execution_count": null,
   "metadata": {
    "colab": {},
    "colab_type": "code",
    "id": "TksQLKtV1JFE"
   },
   "outputs": [],
   "source": [
    "y_actual = np.array(y_actual)\n",
    "y_pred = np.array(y_pred)"
   ]
  },
  {
   "cell_type": "code",
   "execution_count": null,
   "metadata": {
    "colab": {
     "base_uri": "https://localhost:8080/",
     "height": 282
    },
    "colab_type": "code",
    "id": "uDhRB2PC1t9i",
    "outputId": "f39127e2-9510-401a-aab3-3293ab35bb71"
   },
   "outputs": [
    {
     "data": {
      "text/plain": [
       "<matplotlib.axes._subplots.AxesSubplot at 0x7fde18e5fa58>"
      ]
     },
     "execution_count": 67,
     "metadata": {
      "tags": []
     },
     "output_type": "execute_result"
    },
    {
     "data": {
      "image/png": "[encoded data removed]",
      "text/plain": [
       "<Figure size 432x288 with 2 Axes>"
      ]
     },
     "metadata": {
      "needs_background": "light",
      "tags": []
     },
     "output_type": "display_data"
    }
   ],
   "source": [
    "from sklearn.metrics import confusion_matrix, accuracy_score, classification_report\n",
    "\n",
    "cm = confusion_matrix(y_actual, y_pred)\n",
    "\n",
    "import seaborn as sns\n",
    "\n",
    "sns.heatmap(cm, cmap='plasma', annot=True)"
   ]
  },
  {
   "cell_type": "code",
   "execution_count": null,
   "metadata": {
    "colab": {
     "base_uri": "https://localhost:8080/",
     "height": 34
    },
    "colab_type": "code",
    "id": "qfxBRd5U2Hny",
    "outputId": "f0ccb955-03fb-4882-be5d-0dfbc0729375"
   },
   "outputs": [
    {
     "name": "stdout",
     "output_type": "stream",
     "text": [
      "0.9565217391304348\n"
     ]
    }
   ],
   "source": [
    "print(accuracy_score(y_actual, y_pred))"
   ]
  },
  {
   "cell_type": "code",
   "execution_count": null,
   "metadata": {
    "colab": {
     "base_uri": "https://localhost:8080/",
     "height": 168
    },
    "colab_type": "code",
    "id": "CFueTbnV3XUu",
    "outputId": "41aef5bd-b9be-4839-fa9a-820889de37f5"
   },
   "outputs": [
    {
     "name": "stdout",
     "output_type": "stream",
     "text": [
      "              precision    recall  f1-score   support\n",
      "\n",
      "           0       0.96      0.96      0.96        23\n",
      "           1       0.96      0.96      0.96        23\n",
      "\n",
      "    accuracy                           0.96        46\n",
      "   macro avg       0.96      0.96      0.96        46\n",
      "weighted avg       0.96      0.96      0.96        46\n",
      "\n"
     ]
    }
   ],
   "source": [
    "print(classification_report(y_actual, y_pred))"
   ]
  },
  {
   "cell_type": "markdown",
   "metadata": {
    "colab_type": "text",
    "id": "3iebaqhE_UxY"
   },
   "source": [
    "# SAMPLE PREDITCION"
   ]
  },
  {
   "cell_type": "code",
   "execution_count": null,
   "metadata": {
    "colab": {
     "base_uri": "https://localhost:8080/",
     "height": 34
    },
    "colab_type": "code",
    "id": "7gay_51t4zFP",
    "outputId": "72462cae-998c-4d2f-ea1c-7b1537336eb1"
   },
   "outputs": [
    {
     "name": "stdout",
     "output_type": "stream",
     "text": [
      "Covid\n"
     ]
    }
   ],
   "source": [
    "from tensorflow.keras.preprocessing import image\n",
    "\n",
    "img = image.load_img(\"covid19.jpeg\", target_size=(224, 224))\n",
    "img = image.img_to_array(img)\n",
    "img = np.expand_dims(img, axis=0)\n",
    "\n",
    "pred = model.predict_classes(img)\n",
    "\n",
    "if pred == 1:\n",
    "  print(\"Normal\")\n",
    "elif pred == 0:\n",
    "  print(\"Covid\")"
   ]
  }
 ],
 "metadata": {
  "accelerator": "GPU",
  "colab": {
   "collapsed_sections": [],
   "name": "Covid19_Xray_Classification.ipynb",
   "provenance": []
  },
  "kernelspec": {
   "display_name": "Python 3",
   "language": "python",
   "name": "python3"
  },
  "language_info": {
   "codemirror_mode": {
    "name": "ipython",
    "version": 3
   },
   "file_extension": ".py",
   "mimetype": "text/x-python",
   "name": "python",
   "nbconvert_exporter": "python",
   "pygments_lexer": "ipython3",
   "version": "3.7.4"
  }
 },
 "nbformat": 4,
 "nbformat_minor": 1
}
